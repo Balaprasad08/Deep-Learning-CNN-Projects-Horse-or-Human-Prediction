{
  "nbformat": 4,
  "nbformat_minor": 0,
  "metadata": {
    "colab": {
      "name": "CNN  Horse or Human Prediction.ipynb",
      "provenance": [],
      "collapsed_sections": []
    },
    "kernelspec": {
      "name": "python3",
      "display_name": "Python 3"
    },
    "accelerator": "GPU"
  },
  "cells": [
    {
      "cell_type": "markdown",
      "metadata": {
        "id": "EfYx-OxQW-A_"
      },
      "source": [
        "### Horse or Human Classification using CNN"
      ]
    },
    {
      "cell_type": "code",
      "metadata": {
        "id": "XpHH6rZOW_8M"
      },
      "source": [
        "#Load Libraries\r\n",
        "import numpy as np\r\n",
        "import pandas as pd\r\n",
        "import matplotlib.pyplot as plt\r\n",
        "import seaborn as sns\r\n",
        "import os\r\n",
        "import warnings\r\n",
        "warnings.filterwarnings('ignore')\r\n",
        "import keras\r\n"
      ],
      "execution_count": null,
      "outputs": []
    },
    {
      "cell_type": "code",
      "metadata": {
        "id": "6iNq3rXdXbDQ"
      },
      "source": [
        "from keras.preprocessing.image import ImageDataGenerator\r\n",
        "from keras.optimizers import Adam\r\n",
        "from keras.callbacks import ModelCheckpoint\r\n",
        "from keras.layers.normalization import BatchNormalization\r\n",
        "from keras.regularizers import l2"
      ],
      "execution_count": null,
      "outputs": []
    },
    {
      "cell_type": "markdown",
      "metadata": {
        "id": "XzWWlWZTYCij"
      },
      "source": [
        "Load Data"
      ]
    },
    {
      "cell_type": "code",
      "metadata": {
        "id": "8YdI07oDX86m"
      },
      "source": [
        "train_data_path ='/content/drive/MyDrive/horse-or-human/Dataset/train'\r\n",
        "validation_data_path ='/content/drive/MyDrive/horse-or-human/Dataset/validation'"
      ],
      "execution_count": null,
      "outputs": []
    },
    {
      "cell_type": "markdown",
      "metadata": {
        "id": "Eid2dGm0Ye2I"
      },
      "source": [
        "### Data Preprocessing"
      ]
    },
    {
      "cell_type": "code",
      "metadata": {
        "id": "7NF5KdbMYcYI"
      },
      "source": [
        "training_datagen=ImageDataGenerator(rescale=1./255,\r\n",
        "                                   rotation_range=40,\r\n",
        "                                    width_shift_range=0.2,\r\n",
        "                                      height_shift_range=0.2,\r\n",
        "                                      shear_range=0.2,\r\n",
        "                                      zoom_range=0.2,\r\n",
        "                                      horizontal_flip=True,\r\n",
        "                                      fill_mode='nearest')"
      ],
      "execution_count": null,
      "outputs": []
    },
    {
      "cell_type": "code",
      "metadata": {
        "colab": {
          "base_uri": "https://localhost:8080/"
        },
        "id": "tFXJcFF6Y_t4",
        "outputId": "70824203-049c-451e-bed5-b4b88d569276"
      },
      "source": [
        "training_data=training_datagen.flow_from_directory(train_data_path,\r\n",
        "                                                   target_size=(150, 150), \r\n",
        "                                      batch_size=32,\r\n",
        "                                      class_mode='binary')"
      ],
      "execution_count": null,
      "outputs": [
        {
          "output_type": "stream",
          "text": [
            "Found 1037 images belonging to 2 classes.\n"
          ],
          "name": "stdout"
        }
      ]
    },
    {
      "cell_type": "code",
      "metadata": {
        "colab": {
          "base_uri": "https://localhost:8080/"
        },
        "id": "-89S_AppZaoK",
        "outputId": "2ded280c-5171-4369-dd9f-3a2440f12a9d"
      },
      "source": [
        "training_data.class_indices"
      ],
      "execution_count": null,
      "outputs": [
        {
          "output_type": "execute_result",
          "data": {
            "text/plain": [
              "{'horses': 0, 'humans': 1}"
            ]
          },
          "metadata": {
            "tags": []
          },
          "execution_count": 6
        }
      ]
    },
    {
      "cell_type": "code",
      "metadata": {
        "id": "j_7HRtGLaScn"
      },
      "source": [
        "valid_datagen = ImageDataGenerator(rescale=1./255)"
      ],
      "execution_count": null,
      "outputs": []
    },
    {
      "cell_type": "code",
      "metadata": {
        "colab": {
          "base_uri": "https://localhost:8080/"
        },
        "id": "jFNes9u_aXAG",
        "outputId": "fe2d02af-c089-4a4f-c9aa-b1bd43d3a841"
      },
      "source": [
        "valid_data =  valid_datagen.flow_from_directory(validation_data_path, \r\n",
        "                                      target_size=(150, 150), \r\n",
        "                                      batch_size=32,\r\n",
        "                                      class_mode='binary')"
      ],
      "execution_count": null,
      "outputs": [
        {
          "output_type": "stream",
          "text": [
            "Found 256 images belonging to 2 classes.\n"
          ],
          "name": "stdout"
        }
      ]
    },
    {
      "cell_type": "markdown",
      "metadata": {
        "id": "8yHvV0aqafjZ"
      },
      "source": [
        "### Building CNN Model"
      ]
    },
    {
      "cell_type": "code",
      "metadata": {
        "id": "9eHzyuNqacG4"
      },
      "source": [
        "cnn_model=keras.models.Sequential([\r\n",
        "                                   keras.layers.Conv2D(filters=32,kernel_size=3,input_shape=[150,150,3]),#Add First CNN Layer\r\n",
        "                                   keras.layers.MaxPooling2D(pool_size=(2,2)), #Add First MaxPooling Layer\r\n",
        "\r\n",
        "                                   keras.layers.Conv2D(filters=64,kernel_size=3),#Add Second CNN Layer\r\n",
        "                                   keras.layers.MaxPooling2D(pool_size=(2,2)), #Add Second MaxPooling Layer\r\n",
        "\r\n",
        "                                   keras.layers.Conv2D(filters=128,kernel_size=3),#Add Third CNN Layer\r\n",
        "                                   keras.layers.MaxPooling2D(pool_size=(2,2)), #Add Third MaxPooling Layer\r\n",
        "\r\n",
        "                                   keras.layers.Conv2D(filters=256,kernel_size=3),#Add Fourth CNN Layer\r\n",
        "                                   keras.layers.MaxPooling2D(pool_size=(2,2)), #Add Fourth MaxPooling Layer\r\n",
        "\r\n",
        "                                   keras.layers.Dropout(0.5),# Droupout Layers\r\n",
        "                                   keras.layers.Flatten(),\r\n",
        "\r\n",
        "                                   keras.layers.Dense(units=128,activation='relu'), # First Hidden Layer\r\n",
        "                                   keras.layers.Dropout(0.1), # Droupout Layers\r\n",
        "\r\n",
        "                                   keras.layers.Dense(units=256,activation='relu'), # Second Hidden Layer\r\n",
        "                                   keras.layers.Dropout(0.25), # Droupout Layers\r\n",
        "\r\n",
        "                                   keras.layers.Dense(units=2,activation='softmax') #Output Layer\r\n",
        "                                   \r\n",
        "\r\n",
        "\r\n",
        "])"
      ],
      "execution_count": null,
      "outputs": []
    },
    {
      "cell_type": "code",
      "metadata": {
        "id": "6n0YPj4abs4U"
      },
      "source": [
        "# compile cnn model\r\n",
        "cnn_model.compile(optimizer = Adam(learning_rate=0.001), loss='sparse_categorical_crossentropy', metrics=['accuracy'])"
      ],
      "execution_count": null,
      "outputs": []
    },
    {
      "cell_type": "code",
      "metadata": {
        "id": "VHOoAdPwdsGT"
      },
      "source": [
        "model_path='/content/drive/MyDrive/horse-or-human/horse_or_human_predictor.h5'\r\n",
        "checkpoint=ModelCheckpoint(model_path,monitor='val_accuracy',verbose=1,save_best_only=True,mode='max')\r\n",
        "callbacks_list=[checkpoint]"
      ],
      "execution_count": null,
      "outputs": []
    },
    {
      "cell_type": "markdown",
      "metadata": {
        "id": "_4TN1blsfcwT"
      },
      "source": [
        "## Train CNN Model"
      ]
    },
    {
      "cell_type": "code",
      "metadata": {
        "colab": {
          "base_uri": "https://localhost:8080/"
        },
        "id": "42octLfZfZwe",
        "outputId": "7fa79b30-414d-405e-c8a8-3edecfd9d32b"
      },
      "source": [
        "history = cnn_model.fit(training_data, \r\n",
        "                          epochs=100, \r\n",
        "                          verbose=1, \r\n",
        "                          validation_data= valid_data,\r\n",
        "                          callbacks=callbacks_list)"
      ],
      "execution_count": null,
      "outputs": [
        {
          "output_type": "stream",
          "text": [
            "Epoch 1/100\n",
            "33/33 [==============================] - 16s 383ms/step - loss: 0.8605 - accuracy: 0.5234 - val_loss: 0.6116 - val_accuracy: 0.6133\n",
            "\n",
            "Epoch 00001: val_accuracy improved from -inf to 0.61328, saving model to /content/drive/MyDrive/horse-or-human/horse_or_human_predictor.h5\n",
            "Epoch 2/100\n",
            "33/33 [==============================] - 12s 374ms/step - loss: 0.6222 - accuracy: 0.6912 - val_loss: 1.4614 - val_accuracy: 0.5352\n",
            "\n",
            "Epoch 00002: val_accuracy did not improve from 0.61328\n",
            "Epoch 3/100\n",
            "33/33 [==============================] - 12s 368ms/step - loss: 0.4926 - accuracy: 0.7584 - val_loss: 3.7436 - val_accuracy: 0.5156\n",
            "\n",
            "Epoch 00003: val_accuracy did not improve from 0.61328\n",
            "Epoch 4/100\n",
            "33/33 [==============================] - 12s 366ms/step - loss: 0.4954 - accuracy: 0.7779 - val_loss: 1.8837 - val_accuracy: 0.5898\n",
            "\n",
            "Epoch 00004: val_accuracy did not improve from 0.61328\n",
            "Epoch 5/100\n",
            "33/33 [==============================] - 12s 366ms/step - loss: 0.3920 - accuracy: 0.8112 - val_loss: 1.4370 - val_accuracy: 0.6211\n",
            "\n",
            "Epoch 00005: val_accuracy improved from 0.61328 to 0.62109, saving model to /content/drive/MyDrive/horse-or-human/horse_or_human_predictor.h5\n",
            "Epoch 6/100\n",
            "33/33 [==============================] - 12s 369ms/step - loss: 0.3692 - accuracy: 0.8423 - val_loss: 2.2954 - val_accuracy: 0.6211\n",
            "\n",
            "Epoch 00006: val_accuracy did not improve from 0.62109\n",
            "Epoch 7/100\n",
            "33/33 [==============================] - 12s 372ms/step - loss: 0.3096 - accuracy: 0.8714 - val_loss: 3.2062 - val_accuracy: 0.5352\n",
            "\n",
            "Epoch 00007: val_accuracy did not improve from 0.62109\n",
            "Epoch 8/100\n",
            "33/33 [==============================] - 12s 366ms/step - loss: 0.3617 - accuracy: 0.8586 - val_loss: 3.2311 - val_accuracy: 0.5430\n",
            "\n",
            "Epoch 00008: val_accuracy did not improve from 0.62109\n",
            "Epoch 9/100\n",
            "33/33 [==============================] - 12s 370ms/step - loss: 0.2951 - accuracy: 0.8826 - val_loss: 2.0925 - val_accuracy: 0.6289\n",
            "\n",
            "Epoch 00009: val_accuracy improved from 0.62109 to 0.62891, saving model to /content/drive/MyDrive/horse-or-human/horse_or_human_predictor.h5\n",
            "Epoch 10/100\n",
            "33/33 [==============================] - 12s 368ms/step - loss: 0.2472 - accuracy: 0.8967 - val_loss: 1.8436 - val_accuracy: 0.6250\n",
            "\n",
            "Epoch 00010: val_accuracy did not improve from 0.62891\n",
            "Epoch 11/100\n",
            "33/33 [==============================] - 12s 367ms/step - loss: 0.2492 - accuracy: 0.9037 - val_loss: 1.8633 - val_accuracy: 0.6367\n",
            "\n",
            "Epoch 00011: val_accuracy improved from 0.62891 to 0.63672, saving model to /content/drive/MyDrive/horse-or-human/horse_or_human_predictor.h5\n",
            "Epoch 12/100\n",
            "33/33 [==============================] - 12s 368ms/step - loss: 0.1546 - accuracy: 0.9296 - val_loss: 5.5902 - val_accuracy: 0.5586\n",
            "\n",
            "Epoch 00012: val_accuracy did not improve from 0.63672\n",
            "Epoch 13/100\n",
            "33/33 [==============================] - 12s 366ms/step - loss: 0.1625 - accuracy: 0.9459 - val_loss: 3.1522 - val_accuracy: 0.5781\n",
            "\n",
            "Epoch 00013: val_accuracy did not improve from 0.63672\n",
            "Epoch 14/100\n",
            "33/33 [==============================] - 12s 369ms/step - loss: 0.1591 - accuracy: 0.9405 - val_loss: 3.4474 - val_accuracy: 0.5781\n",
            "\n",
            "Epoch 00014: val_accuracy did not improve from 0.63672\n",
            "Epoch 15/100\n",
            "33/33 [==============================] - 12s 367ms/step - loss: 0.2091 - accuracy: 0.9210 - val_loss: 3.9597 - val_accuracy: 0.5195\n",
            "\n",
            "Epoch 00015: val_accuracy did not improve from 0.63672\n",
            "Epoch 16/100\n",
            "33/33 [==============================] - 12s 367ms/step - loss: 0.1315 - accuracy: 0.9636 - val_loss: 4.4172 - val_accuracy: 0.5898\n",
            "\n",
            "Epoch 00016: val_accuracy did not improve from 0.63672\n",
            "Epoch 17/100\n",
            "33/33 [==============================] - 12s 374ms/step - loss: 0.2887 - accuracy: 0.9009 - val_loss: 1.4541 - val_accuracy: 0.7266\n",
            "\n",
            "Epoch 00017: val_accuracy improved from 0.63672 to 0.72656, saving model to /content/drive/MyDrive/horse-or-human/horse_or_human_predictor.h5\n",
            "Epoch 18/100\n",
            "33/33 [==============================] - 12s 370ms/step - loss: 0.2547 - accuracy: 0.9078 - val_loss: 2.0869 - val_accuracy: 0.5938\n",
            "\n",
            "Epoch 00018: val_accuracy did not improve from 0.72656\n",
            "Epoch 19/100\n",
            "33/33 [==============================] - 12s 365ms/step - loss: 0.1388 - accuracy: 0.9464 - val_loss: 3.4970 - val_accuracy: 0.5586\n",
            "\n",
            "Epoch 00019: val_accuracy did not improve from 0.72656\n",
            "Epoch 20/100\n",
            "33/33 [==============================] - 12s 366ms/step - loss: 0.0818 - accuracy: 0.9665 - val_loss: 5.1231 - val_accuracy: 0.5312\n",
            "\n",
            "Epoch 00020: val_accuracy did not improve from 0.72656\n",
            "Epoch 21/100\n",
            "33/33 [==============================] - 12s 368ms/step - loss: 0.1457 - accuracy: 0.9423 - val_loss: 4.0492 - val_accuracy: 0.5625\n",
            "\n",
            "Epoch 00021: val_accuracy did not improve from 0.72656\n",
            "Epoch 22/100\n",
            "33/33 [==============================] - 12s 366ms/step - loss: 0.1053 - accuracy: 0.9574 - val_loss: 5.6500 - val_accuracy: 0.5312\n",
            "\n",
            "Epoch 00022: val_accuracy did not improve from 0.72656\n",
            "Epoch 23/100\n",
            "33/33 [==============================] - 12s 367ms/step - loss: 0.1102 - accuracy: 0.9552 - val_loss: 2.0218 - val_accuracy: 0.6211\n",
            "\n",
            "Epoch 00023: val_accuracy did not improve from 0.72656\n",
            "Epoch 24/100\n",
            "33/33 [==============================] - 12s 366ms/step - loss: 0.1191 - accuracy: 0.9591 - val_loss: 2.8842 - val_accuracy: 0.6445\n",
            "\n",
            "Epoch 00024: val_accuracy did not improve from 0.72656\n",
            "Epoch 25/100\n",
            "33/33 [==============================] - 12s 373ms/step - loss: 0.1614 - accuracy: 0.9518 - val_loss: 1.6145 - val_accuracy: 0.7070\n",
            "\n",
            "Epoch 00025: val_accuracy did not improve from 0.72656\n",
            "Epoch 26/100\n",
            "33/33 [==============================] - 12s 366ms/step - loss: 0.0934 - accuracy: 0.9687 - val_loss: 1.8221 - val_accuracy: 0.6992\n",
            "\n",
            "Epoch 00026: val_accuracy did not improve from 0.72656\n",
            "Epoch 27/100\n",
            "33/33 [==============================] - 12s 367ms/step - loss: 0.0938 - accuracy: 0.9649 - val_loss: 3.1865 - val_accuracy: 0.5938\n",
            "\n",
            "Epoch 00027: val_accuracy did not improve from 0.72656\n",
            "Epoch 28/100\n",
            "33/33 [==============================] - 12s 363ms/step - loss: 0.1010 - accuracy: 0.9702 - val_loss: 1.0543 - val_accuracy: 0.7734\n",
            "\n",
            "Epoch 00028: val_accuracy improved from 0.72656 to 0.77344, saving model to /content/drive/MyDrive/horse-or-human/horse_or_human_predictor.h5\n",
            "Epoch 29/100\n",
            "33/33 [==============================] - 12s 368ms/step - loss: 0.1128 - accuracy: 0.9690 - val_loss: 3.0591 - val_accuracy: 0.5859\n",
            "\n",
            "Epoch 00029: val_accuracy did not improve from 0.77344\n",
            "Epoch 30/100\n",
            "33/33 [==============================] - 12s 366ms/step - loss: 0.0561 - accuracy: 0.9831 - val_loss: 4.1396 - val_accuracy: 0.5391\n",
            "\n",
            "Epoch 00030: val_accuracy did not improve from 0.77344\n",
            "Epoch 31/100\n",
            "33/33 [==============================] - 12s 366ms/step - loss: 0.1344 - accuracy: 0.9555 - val_loss: 4.0061 - val_accuracy: 0.5391\n",
            "\n",
            "Epoch 00031: val_accuracy did not improve from 0.77344\n",
            "Epoch 32/100\n",
            "33/33 [==============================] - 12s 364ms/step - loss: 0.0698 - accuracy: 0.9764 - val_loss: 4.5838 - val_accuracy: 0.5156\n",
            "\n",
            "Epoch 00032: val_accuracy did not improve from 0.77344\n",
            "Epoch 33/100\n",
            "33/33 [==============================] - 12s 366ms/step - loss: 0.1943 - accuracy: 0.9347 - val_loss: 3.3198 - val_accuracy: 0.5898\n",
            "\n",
            "Epoch 00033: val_accuracy did not improve from 0.77344\n",
            "Epoch 34/100\n",
            "33/33 [==============================] - 12s 368ms/step - loss: 0.0808 - accuracy: 0.9673 - val_loss: 5.3157 - val_accuracy: 0.5391\n",
            "\n",
            "Epoch 00034: val_accuracy did not improve from 0.77344\n",
            "Epoch 35/100\n",
            "33/33 [==============================] - 12s 363ms/step - loss: 0.0835 - accuracy: 0.9706 - val_loss: 6.4327 - val_accuracy: 0.5430\n",
            "\n",
            "Epoch 00035: val_accuracy did not improve from 0.77344\n",
            "Epoch 36/100\n",
            "33/33 [==============================] - 12s 365ms/step - loss: 0.0686 - accuracy: 0.9730 - val_loss: 7.1418 - val_accuracy: 0.5352\n",
            "\n",
            "Epoch 00036: val_accuracy did not improve from 0.77344\n",
            "Epoch 37/100\n",
            "33/33 [==============================] - 12s 364ms/step - loss: 0.0800 - accuracy: 0.9750 - val_loss: 6.4950 - val_accuracy: 0.5352\n",
            "\n",
            "Epoch 00037: val_accuracy did not improve from 0.77344\n",
            "Epoch 38/100\n",
            "33/33 [==============================] - 12s 364ms/step - loss: 0.1048 - accuracy: 0.9591 - val_loss: 4.9993 - val_accuracy: 0.5430\n",
            "\n",
            "Epoch 00038: val_accuracy did not improve from 0.77344\n",
            "Epoch 39/100\n",
            "33/33 [==============================] - 12s 365ms/step - loss: 0.0675 - accuracy: 0.9772 - val_loss: 10.8473 - val_accuracy: 0.5117\n",
            "\n",
            "Epoch 00039: val_accuracy did not improve from 0.77344\n",
            "Epoch 40/100\n",
            "33/33 [==============================] - 12s 365ms/step - loss: 0.1153 - accuracy: 0.9639 - val_loss: 2.0644 - val_accuracy: 0.7188\n",
            "\n",
            "Epoch 00040: val_accuracy did not improve from 0.77344\n",
            "Epoch 41/100\n",
            "33/33 [==============================] - 12s 363ms/step - loss: 0.0887 - accuracy: 0.9601 - val_loss: 4.3452 - val_accuracy: 0.6016\n",
            "\n",
            "Epoch 00041: val_accuracy did not improve from 0.77344\n",
            "Epoch 42/100\n",
            "33/33 [==============================] - 12s 367ms/step - loss: 0.1027 - accuracy: 0.9612 - val_loss: 2.2084 - val_accuracy: 0.6641\n",
            "\n",
            "Epoch 00042: val_accuracy did not improve from 0.77344\n",
            "Epoch 43/100\n",
            "33/33 [==============================] - 12s 371ms/step - loss: 0.1369 - accuracy: 0.9497 - val_loss: 3.6385 - val_accuracy: 0.5469\n",
            "\n",
            "Epoch 00043: val_accuracy did not improve from 0.77344\n",
            "Epoch 44/100\n",
            "33/33 [==============================] - 12s 367ms/step - loss: 0.1100 - accuracy: 0.9658 - val_loss: 3.4803 - val_accuracy: 0.5781\n",
            "\n",
            "Epoch 00044: val_accuracy did not improve from 0.77344\n",
            "Epoch 45/100\n",
            "33/33 [==============================] - 12s 372ms/step - loss: 0.0638 - accuracy: 0.9714 - val_loss: 2.9717 - val_accuracy: 0.6367\n",
            "\n",
            "Epoch 00045: val_accuracy did not improve from 0.77344\n",
            "Epoch 46/100\n",
            "33/33 [==============================] - 12s 374ms/step - loss: 0.0932 - accuracy: 0.9574 - val_loss: 3.5719 - val_accuracy: 0.5781\n",
            "\n",
            "Epoch 00046: val_accuracy did not improve from 0.77344\n",
            "Epoch 47/100\n",
            "33/33 [==============================] - 12s 368ms/step - loss: 0.1150 - accuracy: 0.9567 - val_loss: 5.0182 - val_accuracy: 0.5781\n",
            "\n",
            "Epoch 00047: val_accuracy did not improve from 0.77344\n",
            "Epoch 48/100\n",
            "33/33 [==============================] - 12s 370ms/step - loss: 0.0612 - accuracy: 0.9738 - val_loss: 3.3101 - val_accuracy: 0.6172\n",
            "\n",
            "Epoch 00048: val_accuracy did not improve from 0.77344\n",
            "Epoch 49/100\n",
            "33/33 [==============================] - 12s 373ms/step - loss: 0.0477 - accuracy: 0.9818 - val_loss: 4.3441 - val_accuracy: 0.6016\n",
            "\n",
            "Epoch 00049: val_accuracy did not improve from 0.77344\n",
            "Epoch 50/100\n",
            "33/33 [==============================] - 12s 370ms/step - loss: 0.0568 - accuracy: 0.9772 - val_loss: 4.3484 - val_accuracy: 0.6562\n",
            "\n",
            "Epoch 00050: val_accuracy did not improve from 0.77344\n",
            "Epoch 51/100\n",
            "33/33 [==============================] - 12s 376ms/step - loss: 0.0474 - accuracy: 0.9818 - val_loss: 3.2586 - val_accuracy: 0.6719\n",
            "\n",
            "Epoch 00051: val_accuracy did not improve from 0.77344\n",
            "Epoch 52/100\n",
            "33/33 [==============================] - 12s 372ms/step - loss: 0.0820 - accuracy: 0.9657 - val_loss: 4.6704 - val_accuracy: 0.5938\n",
            "\n",
            "Epoch 00052: val_accuracy did not improve from 0.77344\n",
            "Epoch 53/100\n",
            "33/33 [==============================] - 12s 373ms/step - loss: 0.0738 - accuracy: 0.9736 - val_loss: 7.1912 - val_accuracy: 0.5469\n",
            "\n",
            "Epoch 00053: val_accuracy did not improve from 0.77344\n",
            "Epoch 54/100\n",
            "33/33 [==============================] - 12s 370ms/step - loss: 0.0562 - accuracy: 0.9835 - val_loss: 5.4049 - val_accuracy: 0.5469\n",
            "\n",
            "Epoch 00054: val_accuracy did not improve from 0.77344\n",
            "Epoch 55/100\n",
            "33/33 [==============================] - 12s 370ms/step - loss: 0.0632 - accuracy: 0.9794 - val_loss: 4.9294 - val_accuracy: 0.6328\n",
            "\n",
            "Epoch 00055: val_accuracy did not improve from 0.77344\n",
            "Epoch 56/100\n",
            "33/33 [==============================] - 12s 369ms/step - loss: 0.0741 - accuracy: 0.9707 - val_loss: 2.4101 - val_accuracy: 0.6953\n",
            "\n",
            "Epoch 00056: val_accuracy did not improve from 0.77344\n",
            "Epoch 57/100\n",
            "33/33 [==============================] - 12s 369ms/step - loss: 0.0657 - accuracy: 0.9729 - val_loss: 3.3777 - val_accuracy: 0.6250\n",
            "\n",
            "Epoch 00057: val_accuracy did not improve from 0.77344\n",
            "Epoch 58/100\n",
            "33/33 [==============================] - 12s 372ms/step - loss: 0.0602 - accuracy: 0.9816 - val_loss: 2.2835 - val_accuracy: 0.7422\n",
            "\n",
            "Epoch 00058: val_accuracy did not improve from 0.77344\n",
            "Epoch 59/100\n",
            "33/33 [==============================] - 12s 375ms/step - loss: 0.1140 - accuracy: 0.9599 - val_loss: 2.8253 - val_accuracy: 0.7656\n",
            "\n",
            "Epoch 00059: val_accuracy did not improve from 0.77344\n",
            "Epoch 60/100\n",
            "33/33 [==============================] - 12s 373ms/step - loss: 0.0822 - accuracy: 0.9595 - val_loss: 4.4005 - val_accuracy: 0.6484\n",
            "\n",
            "Epoch 00060: val_accuracy did not improve from 0.77344\n",
            "Epoch 61/100\n",
            "33/33 [==============================] - 12s 373ms/step - loss: 0.1016 - accuracy: 0.9661 - val_loss: 1.5967 - val_accuracy: 0.8125\n",
            "\n",
            "Epoch 00061: val_accuracy improved from 0.77344 to 0.81250, saving model to /content/drive/MyDrive/horse-or-human/horse_or_human_predictor.h5\n",
            "Epoch 62/100\n",
            "33/33 [==============================] - 12s 374ms/step - loss: 0.0767 - accuracy: 0.9680 - val_loss: 5.0077 - val_accuracy: 0.5312\n",
            "\n",
            "Epoch 00062: val_accuracy did not improve from 0.81250\n",
            "Epoch 63/100\n",
            "33/33 [==============================] - 12s 371ms/step - loss: 0.1066 - accuracy: 0.9589 - val_loss: 6.4055 - val_accuracy: 0.5703\n",
            "\n",
            "Epoch 00063: val_accuracy did not improve from 0.81250\n",
            "Epoch 64/100\n",
            "33/33 [==============================] - 12s 370ms/step - loss: 0.0456 - accuracy: 0.9854 - val_loss: 3.5393 - val_accuracy: 0.7578\n",
            "\n",
            "Epoch 00064: val_accuracy did not improve from 0.81250\n",
            "Epoch 65/100\n",
            "33/33 [==============================] - 12s 368ms/step - loss: 0.0559 - accuracy: 0.9844 - val_loss: 2.4475 - val_accuracy: 0.7305\n",
            "\n",
            "Epoch 00065: val_accuracy did not improve from 0.81250\n",
            "Epoch 66/100\n",
            "33/33 [==============================] - 12s 370ms/step - loss: 0.0538 - accuracy: 0.9817 - val_loss: 1.4039 - val_accuracy: 0.7773\n",
            "\n",
            "Epoch 00066: val_accuracy did not improve from 0.81250\n",
            "Epoch 67/100\n",
            "33/33 [==============================] - 12s 371ms/step - loss: 0.0630 - accuracy: 0.9700 - val_loss: 3.2817 - val_accuracy: 0.7109\n",
            "\n",
            "Epoch 00067: val_accuracy did not improve from 0.81250\n",
            "Epoch 68/100\n",
            "33/33 [==============================] - 13s 380ms/step - loss: 0.0516 - accuracy: 0.9822 - val_loss: 3.5250 - val_accuracy: 0.7109\n",
            "\n",
            "Epoch 00068: val_accuracy did not improve from 0.81250\n",
            "Epoch 69/100\n",
            "33/33 [==============================] - 12s 371ms/step - loss: 0.0560 - accuracy: 0.9756 - val_loss: 2.6384 - val_accuracy: 0.7031\n",
            "\n",
            "Epoch 00069: val_accuracy did not improve from 0.81250\n",
            "Epoch 70/100\n",
            "33/33 [==============================] - 12s 372ms/step - loss: 0.0447 - accuracy: 0.9880 - val_loss: 3.5397 - val_accuracy: 0.6602\n",
            "\n",
            "Epoch 00070: val_accuracy did not improve from 0.81250\n",
            "Epoch 71/100\n",
            "33/33 [==============================] - 12s 373ms/step - loss: 0.0520 - accuracy: 0.9794 - val_loss: 3.6242 - val_accuracy: 0.7422\n",
            "\n",
            "Epoch 00071: val_accuracy did not improve from 0.81250\n",
            "Epoch 72/100\n",
            "33/33 [==============================] - 12s 374ms/step - loss: 0.0725 - accuracy: 0.9687 - val_loss: 3.7567 - val_accuracy: 0.6719\n",
            "\n",
            "Epoch 00072: val_accuracy did not improve from 0.81250\n",
            "Epoch 73/100\n",
            "33/33 [==============================] - 12s 371ms/step - loss: 0.0410 - accuracy: 0.9872 - val_loss: 4.4096 - val_accuracy: 0.6445\n",
            "\n",
            "Epoch 00073: val_accuracy did not improve from 0.81250\n",
            "Epoch 74/100\n",
            "33/33 [==============================] - 12s 370ms/step - loss: 0.0818 - accuracy: 0.9746 - val_loss: 3.1427 - val_accuracy: 0.7656\n",
            "\n",
            "Epoch 00074: val_accuracy did not improve from 0.81250\n",
            "Epoch 75/100\n",
            "33/33 [==============================] - 12s 368ms/step - loss: 0.0324 - accuracy: 0.9910 - val_loss: 3.9330 - val_accuracy: 0.6758\n",
            "\n",
            "Epoch 00075: val_accuracy did not improve from 0.81250\n",
            "Epoch 76/100\n",
            "33/33 [==============================] - 12s 364ms/step - loss: 0.0528 - accuracy: 0.9762 - val_loss: 4.6731 - val_accuracy: 0.6406\n",
            "\n",
            "Epoch 00076: val_accuracy did not improve from 0.81250\n",
            "Epoch 77/100\n",
            "33/33 [==============================] - 12s 365ms/step - loss: 0.0466 - accuracy: 0.9839 - val_loss: 3.1467 - val_accuracy: 0.6680\n",
            "\n",
            "Epoch 00077: val_accuracy did not improve from 0.81250\n",
            "Epoch 78/100\n",
            "33/33 [==============================] - 12s 377ms/step - loss: 0.0655 - accuracy: 0.9790 - val_loss: 1.8481 - val_accuracy: 0.7930\n",
            "\n",
            "Epoch 00078: val_accuracy did not improve from 0.81250\n",
            "Epoch 79/100\n",
            "33/33 [==============================] - 12s 367ms/step - loss: 0.0504 - accuracy: 0.9860 - val_loss: 3.8613 - val_accuracy: 0.5742\n",
            "\n",
            "Epoch 00079: val_accuracy did not improve from 0.81250\n",
            "Epoch 80/100\n",
            "33/33 [==============================] - 12s 366ms/step - loss: 0.0306 - accuracy: 0.9871 - val_loss: 3.8573 - val_accuracy: 0.7031\n",
            "\n",
            "Epoch 00080: val_accuracy did not improve from 0.81250\n",
            "Epoch 81/100\n",
            "33/33 [==============================] - 12s 366ms/step - loss: 0.0153 - accuracy: 0.9954 - val_loss: 3.5123 - val_accuracy: 0.7422\n",
            "\n",
            "Epoch 00081: val_accuracy did not improve from 0.81250\n",
            "Epoch 82/100\n",
            "33/33 [==============================] - 12s 365ms/step - loss: 0.0751 - accuracy: 0.9754 - val_loss: 2.4589 - val_accuracy: 0.7461\n",
            "\n",
            "Epoch 00082: val_accuracy did not improve from 0.81250\n",
            "Epoch 83/100\n",
            "33/33 [==============================] - 12s 366ms/step - loss: 0.0404 - accuracy: 0.9836 - val_loss: 4.2727 - val_accuracy: 0.6602\n",
            "\n",
            "Epoch 00083: val_accuracy did not improve from 0.81250\n",
            "Epoch 84/100\n",
            "33/33 [==============================] - 12s 367ms/step - loss: 0.0238 - accuracy: 0.9870 - val_loss: 7.3203 - val_accuracy: 0.5898\n",
            "\n",
            "Epoch 00084: val_accuracy did not improve from 0.81250\n",
            "Epoch 85/100\n",
            "33/33 [==============================] - 12s 367ms/step - loss: 0.0477 - accuracy: 0.9829 - val_loss: 2.6617 - val_accuracy: 0.7070\n",
            "\n",
            "Epoch 00085: val_accuracy did not improve from 0.81250\n",
            "Epoch 86/100\n",
            "33/33 [==============================] - 12s 367ms/step - loss: 0.5433 - accuracy: 0.8823 - val_loss: 2.7730 - val_accuracy: 0.6562\n",
            "\n",
            "Epoch 00086: val_accuracy did not improve from 0.81250\n",
            "Epoch 87/100\n",
            "33/33 [==============================] - 12s 365ms/step - loss: 2.7943 - accuracy: 0.6250 - val_loss: 3.2410 - val_accuracy: 0.5078\n",
            "\n",
            "Epoch 00087: val_accuracy did not improve from 0.81250\n",
            "Epoch 88/100\n",
            "33/33 [==============================] - 12s 365ms/step - loss: 0.4927 - accuracy: 0.8226 - val_loss: 1.7830 - val_accuracy: 0.7695\n",
            "\n",
            "Epoch 00088: val_accuracy did not improve from 0.81250\n",
            "Epoch 89/100\n",
            "33/33 [==============================] - 12s 366ms/step - loss: 0.2149 - accuracy: 0.9198 - val_loss: 3.5412 - val_accuracy: 0.6016\n",
            "\n",
            "Epoch 00089: val_accuracy did not improve from 0.81250\n",
            "Epoch 90/100\n",
            "33/33 [==============================] - 12s 368ms/step - loss: 0.1617 - accuracy: 0.9175 - val_loss: 2.6396 - val_accuracy: 0.6875\n",
            "\n",
            "Epoch 00090: val_accuracy did not improve from 0.81250\n",
            "Epoch 91/100\n",
            "33/33 [==============================] - 12s 365ms/step - loss: 0.1297 - accuracy: 0.9600 - val_loss: 0.9915 - val_accuracy: 0.7852\n",
            "\n",
            "Epoch 00091: val_accuracy did not improve from 0.81250\n",
            "Epoch 92/100\n",
            "33/33 [==============================] - 12s 372ms/step - loss: 0.1175 - accuracy: 0.9589 - val_loss: 4.3188 - val_accuracy: 0.6133\n",
            "\n",
            "Epoch 00092: val_accuracy did not improve from 0.81250\n",
            "Epoch 93/100\n",
            "33/33 [==============================] - 12s 369ms/step - loss: 0.0703 - accuracy: 0.9732 - val_loss: 2.9711 - val_accuracy: 0.6602\n",
            "\n",
            "Epoch 00093: val_accuracy did not improve from 0.81250\n",
            "Epoch 94/100\n",
            "33/33 [==============================] - 12s 368ms/step - loss: 0.0932 - accuracy: 0.9675 - val_loss: 2.5162 - val_accuracy: 0.6719\n",
            "\n",
            "Epoch 00094: val_accuracy did not improve from 0.81250\n",
            "Epoch 95/100\n",
            "33/33 [==============================] - 12s 366ms/step - loss: 0.0824 - accuracy: 0.9665 - val_loss: 1.2351 - val_accuracy: 0.7656\n",
            "\n",
            "Epoch 00095: val_accuracy did not improve from 0.81250\n",
            "Epoch 96/100\n",
            "33/33 [==============================] - 12s 365ms/step - loss: 0.1070 - accuracy: 0.9654 - val_loss: 3.8788 - val_accuracy: 0.6211\n",
            "\n",
            "Epoch 00096: val_accuracy did not improve from 0.81250\n",
            "Epoch 97/100\n",
            "33/33 [==============================] - 12s 365ms/step - loss: 0.0767 - accuracy: 0.9684 - val_loss: 3.2200 - val_accuracy: 0.7031\n",
            "\n",
            "Epoch 00097: val_accuracy did not improve from 0.81250\n",
            "Epoch 98/100\n",
            "33/33 [==============================] - 12s 367ms/step - loss: 0.1044 - accuracy: 0.9602 - val_loss: 2.4301 - val_accuracy: 0.7617\n",
            "\n",
            "Epoch 00098: val_accuracy did not improve from 0.81250\n",
            "Epoch 99/100\n",
            "33/33 [==============================] - 12s 366ms/step - loss: 0.0762 - accuracy: 0.9770 - val_loss: 5.0502 - val_accuracy: 0.5625\n",
            "\n",
            "Epoch 00099: val_accuracy did not improve from 0.81250\n",
            "Epoch 100/100\n",
            "33/33 [==============================] - 12s 366ms/step - loss: 0.0581 - accuracy: 0.9821 - val_loss: 2.6508 - val_accuracy: 0.6602\n",
            "\n",
            "Epoch 00100: val_accuracy did not improve from 0.81250\n"
          ],
          "name": "stdout"
        }
      ]
    },
    {
      "cell_type": "markdown",
      "metadata": {
        "id": "rg9PviOPseJr"
      },
      "source": [
        "### **Import Model**"
      ]
    },
    {
      "cell_type": "code",
      "metadata": {
        "id": "qoShB_W8fnL3"
      },
      "source": [
        "model_path='/content/drive/MyDrive/horse-or-human/horse_or_human_predictor.h5'"
      ],
      "execution_count": null,
      "outputs": []
    },
    {
      "cell_type": "code",
      "metadata": {
        "id": "GzWRpTHDsyVR"
      },
      "source": [
        "model = keras.models.load_model(model_path)"
      ],
      "execution_count": null,
      "outputs": []
    },
    {
      "cell_type": "code",
      "metadata": {
        "id": "dMkGuA7Ks5N2"
      },
      "source": [
        "#horse image path\r\n",
        "h1='/content/drive/MyDrive/horse-or-human/test_data/horse/1.jpg'\r\n",
        "h2='/content/drive/MyDrive/horse-or-human/test_data/horse/2.jpg'\r\n",
        "h3='/content/drive/MyDrive/horse-or-human/test_data/horse/3.jpeg'\r\n",
        "h5='/content/drive/MyDrive/horse-or-human/test_data/horse/4.jpg'\r\n",
        "h4='/content/drive/MyDrive/horse-or-human/test_data/horse/5.jpg'\r\n",
        "#human image path\r\n",
        "human1='/content/drive/MyDrive/horse-or-human/test_data/human/1.jpg'\r\n",
        "human2='/content/drive/MyDrive/horse-or-human/test_data/human/2.jpg'\r\n",
        "human3='/content/drive/MyDrive/horse-or-human/test_data/human/3.jpg'\r\n",
        "human4='/content/drive/MyDrive/horse-or-human/test_data/human/4.jpg'\r\n",
        "human5='/content/drive/MyDrive/horse-or-human/test_data/human/5.jpg'"
      ],
      "execution_count": null,
      "outputs": []
    },
    {
      "cell_type": "code",
      "metadata": {
        "id": "nV9XBGlrthOH"
      },
      "source": [
        "import numpy as np\r\n",
        "from keras.preprocessing import image"
      ],
      "execution_count": null,
      "outputs": []
    },
    {
      "cell_type": "code",
      "metadata": {
        "id": "bBtYIfiptnKK"
      },
      "source": [
        "def pred_human_horse(model, horse_or_human):\r\n",
        "  test_image = image.load_img(horse_or_human, target_size = (150, 150))\r\n",
        "  test_image = image.img_to_array(test_image)/255\r\n",
        "  test_image = np.expand_dims(test_image, axis = 0)\r\n",
        "\r\n",
        "  result = model.predict(test_image).round(3)\r\n",
        "\r\n",
        "  pred = np.argmax(result)\r\n",
        "  print(result, \"--->>>\", pred)\r\n",
        "\r\n",
        "  if pred == 0:\r\n",
        "    print('Predicted>>> Horse')\r\n",
        "  else:\r\n",
        "    print('Predicted>>> Human')"
      ],
      "execution_count": null,
      "outputs": []
    },
    {
      "cell_type": "markdown",
      "metadata": {
        "id": "Iw7oh0NltuOn"
      },
      "source": [
        "### **Predict Output**"
      ]
    },
    {
      "cell_type": "code",
      "metadata": {
        "colab": {
          "base_uri": "https://localhost:8080/"
        },
        "id": "J-WbT7hjtrbB",
        "outputId": "32cd194f-7de0-4c02-e793-86fa5b3cd1b8"
      },
      "source": [
        "for horse_or_human in [h1,h2,h3,h4,h5,human1,human2,human3,human4,human5]:\r\n",
        "  pred_human_horse(model, horse_or_human)"
      ],
      "execution_count": null,
      "outputs": [
        {
          "output_type": "stream",
          "text": [
            "[[0.997 0.003]] --->>> 0\n",
            "Predicted>>> Horse\n",
            "[[1. 0.]] --->>> 0\n",
            "Predicted>>> Horse\n",
            "[[0.533 0.467]] --->>> 0\n",
            "Predicted>>> Horse\n",
            "[[0. 1.]] --->>> 1\n",
            "Predicted>>> Human\n",
            "[[0.01 0.99]] --->>> 1\n",
            "Predicted>>> Human\n",
            "[[0.998 0.002]] --->>> 0\n",
            "Predicted>>> Horse\n",
            "[[0.796 0.204]] --->>> 0\n",
            "Predicted>>> Horse\n",
            "[[0. 1.]] --->>> 1\n",
            "Predicted>>> Human\n",
            "[[0.314 0.686]] --->>> 1\n",
            "Predicted>>> Human\n",
            "[[0.996 0.004]] --->>> 0\n",
            "Predicted>>> Horse\n"
          ],
          "name": "stdout"
        }
      ]
    },
    {
      "cell_type": "code",
      "metadata": {
        "id": "AewJVNdDt71E"
      },
      "source": [
        ""
      ],
      "execution_count": null,
      "outputs": []
    }
  ]
}